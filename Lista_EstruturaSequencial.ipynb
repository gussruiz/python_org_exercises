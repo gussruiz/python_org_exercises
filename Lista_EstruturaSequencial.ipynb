{
  "nbformat": 4,
  "nbformat_minor": 0,
  "metadata": {
    "colab": {
      "provenance": []
    },
    "kernelspec": {
      "name": "python3",
      "display_name": "Python 3"
    },
    "language_info": {
      "name": "python"
    }
  },
  "cells": [
    {
      "cell_type": "code",
      "execution_count": null,
      "metadata": {
        "colab": {
          "base_uri": "https://localhost:8080/"
        },
        "id": "bRK4981GCDvz",
        "outputId": "585e70af-2a78-427f-a88d-361c207b196d"
      },
      "outputs": [
        {
          "output_type": "stream",
          "name": "stdout",
          "text": [
            "Olá mundo\n"
          ]
        }
      ],
      "source": [
        "#Faça um Programa que mostre a mensagem \"Alo mundo\" na tela.\n",
        "print(\"Olá mundo\")"
      ]
    },
    {
      "cell_type": "code",
      "source": [
        "#Faça um Programa que peça um número e então mostre a mensagem O número informado foi [número].\n",
        "\n",
        "num = input('Informe um número por favor')\n",
        "print('O número informado é', num)"
      ],
      "metadata": {
        "colab": {
          "base_uri": "https://localhost:8080/"
        },
        "id": "6Y6seL6NCTWI",
        "outputId": "f669a11f-af53-4b2e-8840-8d44f1915b44"
      },
      "execution_count": null,
      "outputs": [
        {
          "output_type": "stream",
          "name": "stdout",
          "text": [
            "Informe um número por favor27\n",
            "O número informado é 27\n"
          ]
        }
      ]
    },
    {
      "cell_type": "code",
      "source": [
        "#Faça um Programa que peça dois números e imprima a soma.\n",
        "num1 = input('Informe o primeiro número para a soma: ')\n",
        "num2 = input('Informe o segundo número para a soma: ')\n",
        "\n",
        "num3 = int(num1) + int(num2)\n",
        "\n",
        "print ('A soma de ',num1, 'mais ',num2, 'é igual a:',num3 )"
      ],
      "metadata": {
        "colab": {
          "base_uri": "https://localhost:8080/"
        },
        "id": "c37tBvXSC0yq",
        "outputId": "b4ff7fc6-8f1b-4eac-c14d-72bdfa81be22"
      },
      "execution_count": null,
      "outputs": [
        {
          "output_type": "stream",
          "name": "stdout",
          "text": [
            "Informe o primeiro número para a soma: 5\n",
            "Informe o segundo número para a soma: 5\n",
            "A soma de  5 mais  5 é igual a: 10\n"
          ]
        }
      ]
    },
    {
      "cell_type": "code",
      "source": [
        "#Faça um Programa que peça as 4 notas bimestrais e mostre a média.\n",
        "\n",
        "grade1 = float(input('Informe a nota para o primeiro semestre para ser realizado o calculo de média: '))\n",
        "grade2 = float(input('Informe a nota para o segundo semestre para ser realizado o calculo de média: '))\n",
        "grade3 = float(input('Informe a nota para o terceiro semestre para ser realizado o calculo de média: '))\n",
        "grade4 = float(input('Informe a nota para o quarto semestre para ser realizado o calculo de média: '))\n",
        "\n",
        "sum = (grade1+grade2+grade3+grade4)/4\n",
        "\n",
        "print('A média das notas do aluno para o ano é: ',sum)\n"
      ],
      "metadata": {
        "colab": {
          "base_uri": "https://localhost:8080/"
        },
        "id": "wFKuvtKUDc4x",
        "outputId": "7cbcc8c7-fcec-4529-dc1e-521d4857cc30"
      },
      "execution_count": null,
      "outputs": [
        {
          "output_type": "stream",
          "name": "stdout",
          "text": [
            "Informe a nota para o primeiro semestre para ser realizado o calculo de média: 8\n",
            "Informe a nota para o segundo semestre para ser realizado o calculo de média: 8.5\n",
            "Informe a nota para o terceiro semestre para ser realizado o calculo de média: 9\n",
            "Informe a nota para o quarto semestre para ser realizado o calculo de média: 7\n",
            "A média das notas do aluno para o ano é:  8.125\n"
          ]
        }
      ]
    },
    {
      "cell_type": "code",
      "source": [
        "#Faça um Programa que converta metros para centímetros.\n",
        "\n",
        "meter = float(input('Informe quantos metros deseja converter para centimetos: '))\n",
        "\n",
        "cm = meter * 100\n",
        "\n",
        "print(meter,'m será ',cm,'cm.')"
      ],
      "metadata": {
        "colab": {
          "base_uri": "https://localhost:8080/"
        },
        "id": "RnJLa_nSErAq",
        "outputId": "aadaa0fd-7038-496c-903e-bb826fa70411"
      },
      "execution_count": null,
      "outputs": [
        {
          "output_type": "stream",
          "name": "stdout",
          "text": [
            "Informe quantos metros deseja converter para centimetos: 1.5\n",
            "1.5 m será  150.0 cm.\n"
          ]
        }
      ]
    },
    {
      "cell_type": "code",
      "source": [
        "#Faça um Programa que peça o raio de um círculo, calcule e mostre sua área. (A = π r²)\n",
        "\n",
        "r = float(input('Informe o raio do círculo para que seja calculada a área: '))\n",
        "\n",
        "A = 3.14 * (r*r)\n",
        "\n",
        "print('A área da circunferencia é: ',A)"
      ],
      "metadata": {
        "colab": {
          "base_uri": "https://localhost:8080/"
        },
        "id": "IZltzV30FRaZ",
        "outputId": "25c2502f-3791-43c2-83c2-fab556d494dd"
      },
      "execution_count": null,
      "outputs": [
        {
          "output_type": "stream",
          "name": "stdout",
          "text": [
            "Informe o raio do círculo para que seja calculada a área: 2.3\n",
            "A área da circunferencia é:  16.610599999999998\n"
          ]
        }
      ]
    },
    {
      "cell_type": "code",
      "source": [
        "#Faça um Programa que calcule a área de um quadrado, em seguida mostre o dobro desta área para o usuário.\n",
        "\n",
        "l = float(input('Informe valor de um dos lados do quadrado: '))\n",
        "\n",
        "A = l * l\n",
        "\n",
        "A2 = A * 2\n",
        "\n",
        "print('A área do quadrado é, ',A,' o dobro área é ',A2)"
      ],
      "metadata": {
        "colab": {
          "base_uri": "https://localhost:8080/"
        },
        "id": "lRdMKQuUF7A1",
        "outputId": "5b900916-f4c7-4d12-d625-149d802ca1bb"
      },
      "execution_count": null,
      "outputs": [
        {
          "output_type": "stream",
          "name": "stdout",
          "text": [
            "Informe valor de um dos lados do quadrado: 4\n",
            "A área do quadrado é,  16.0  o dobro área é  32.0\n"
          ]
        }
      ]
    },
    {
      "cell_type": "code",
      "source": [
        "#Faça um Programa que pergunte quanto você ganha por hora e o número de horas trabalhadas no mês. Calcule e mostre o total do seu salário no referido mês.\n",
        "\n",
        "hourWage = float(input('Informe o valor que recebe por hora de trabalho: '))\n",
        "hours = float(input('Informe quantas horas foram trabalhadas esse mês: '))\n",
        "\n",
        "wage = hours * hourWage\n",
        "\n",
        "print('O seu salário nesse mês será: ', wage)"
      ],
      "metadata": {
        "colab": {
          "base_uri": "https://localhost:8080/"
        },
        "id": "bi6Zv3ylHBtf",
        "outputId": "60c50401-1599-44ef-dde5-e912b03f3f4d"
      },
      "execution_count": null,
      "outputs": [
        {
          "output_type": "stream",
          "name": "stdout",
          "text": [
            "Informe o valor que recebe por hora de trabalho: 12.50\n",
            "Informe quantas horas foram trabalhadas esse mês: 160\n",
            "O seu salário nesse mês será:  2000.0\n"
          ]
        }
      ]
    },
    {
      "cell_type": "code",
      "source": [
        "#Faça um Programa que peça a temperatura em graus Fahrenheit, transforme e mostre a temperatura em graus Celsius.\n",
        "#  - C = 5 * ((F-32) / 9).\n",
        "\n",
        "F = float(input('Informe a temperatura a ser convertida: '))\n",
        "\n",
        "C = 5 * ((F -32) / 9)\n",
        "\n",
        "print('A temperatura em Celcius é: ',C)"
      ],
      "metadata": {
        "colab": {
          "base_uri": "https://localhost:8080/"
        },
        "id": "dotJWHlGIevY",
        "outputId": "599eefff-99ea-4628-ba0e-fd74bff6f8e1"
      },
      "execution_count": null,
      "outputs": [
        {
          "output_type": "stream",
          "name": "stdout",
          "text": [
            "Informe a temperatura a ser convertida: 40\n",
            "A temperatura em Celcius é:  4.444444444444445\n"
          ]
        }
      ]
    },
    {
      "cell_type": "code",
      "source": [
        "#Faça um Programa que peça a temperatura em graus Celsius, transforme e mostre em graus Fahrenheit. F = (C × 9/5) + 32\n",
        "\n",
        "C = float(input('Informe a temperatura a ser convertida: '))\n",
        "\n",
        "F = (C * (9/5)) + 32\n",
        "\n",
        "print('A temperatura em Fahrenheit é: ',F)"
      ],
      "metadata": {
        "colab": {
          "base_uri": "https://localhost:8080/"
        },
        "id": "yCkSPEW5Nm7r",
        "outputId": "320e0f63-c79f-47bd-d80b-c21b8d308309"
      },
      "execution_count": null,
      "outputs": [
        {
          "output_type": "stream",
          "name": "stdout",
          "text": [
            "Informe a temperatura a ser convertida: 20\n",
            "A temperatura em Fahrenheit é:  68.0\n"
          ]
        }
      ]
    },
    {
      "cell_type": "code",
      "source": [
        "#Faça um Programa que peça 2 números inteiros e um número real. Calcule e mostre:\n",
        "# o produto do dobro do primeiro com metade do segundo .\n",
        "# a soma do triplo do primeiro com o terceiro.\n",
        "# o terceiro elevado ao cubo.\n",
        "\n",
        "\n",
        "num1 = int(input('Informe o primeiro numero inteiro: '))\n",
        "num2 = int(input('Informe o segundo numero inteiro: '))\n",
        "num3 = float(input('Informe um numero real: '))\n",
        "\n",
        "math1 = (num1*2)*(num2/2)\n",
        "math2 = (num1*3)+num3\n",
        "math3 = num3 * num3 * num3\n",
        "\n",
        "print('A resposta para a primeira requisição', math1)\n",
        "print('A resposta para a segunda requisição', math2)\n",
        "print('A resposta para a terceira requisição', math3)"
      ],
      "metadata": {
        "colab": {
          "base_uri": "https://localhost:8080/"
        },
        "id": "87qlwxx4ORQ1",
        "outputId": "4052fbdc-766b-463a-fc0b-fa6d99601923"
      },
      "execution_count": null,
      "outputs": [
        {
          "output_type": "stream",
          "name": "stdout",
          "text": [
            "Informe o primeiro numero inteiro: 5\n",
            "Informe o segundo numero inteiro: 5\n",
            "Informe um numero real: 2.5\n",
            "A resposta para a primeira requisição 25.0\n",
            "A resposta para a segunda requisição 17.5\n",
            "A resposta para a terceira requisição 15.625\n"
          ]
        }
      ]
    },
    {
      "cell_type": "code",
      "source": [
        "#Tendo como dados de entrada a altura de uma pessoa, construa um algoritmo que calcule seu peso ideal, usando a seguinte fórmula: (72.7*altura) - 58\n",
        "\n",
        "high = float(input('Informe sua altura por favor: '))\n",
        "\n",
        "idealWeight = (72.7 * high) - 58\n",
        "\n",
        "print('O seu peso ideal seria: ', idealWeight)"
      ],
      "metadata": {
        "colab": {
          "base_uri": "https://localhost:8080/"
        },
        "id": "QZrmz-jGZ5mP",
        "outputId": "2c791053-40d3-4968-e24e-951072defbad"
      },
      "execution_count": null,
      "outputs": [
        {
          "output_type": "stream",
          "name": "stdout",
          "text": [
            "Informe sua altura por favor: 1.84\n",
            "O seu peso ideal seria:  75.768\n"
          ]
        }
      ]
    },
    {
      "cell_type": "code",
      "source": [
        "#Tendo como dado de entrada a altura (h) de uma pessoa, construa um algoritmo que calcule seu peso ideal, utilizando as seguintes fórmulas:\n",
        "# Para homens: (72.7*h) - 58\n",
        "# Para mulheres: (62.1*h) - 44.7\n",
        "\n",
        "high = float(input('Informe sua altura por favor: '))\n",
        "\n",
        "male_ideal_weight = (72.7 * high) - 58\n",
        "female_ideal_weight = (62.1 * high) - 44.7\n",
        "\n",
        "print('Para a altura o peso ideal de um homem seria: ', male_ideal_weight)\n",
        "print('Para a altura o peso ideal de uma mulher seria: ', female_ideal_weight)"
      ],
      "metadata": {
        "colab": {
          "base_uri": "https://localhost:8080/"
        },
        "id": "-Y5noLVEa3sJ",
        "outputId": "05516c99-14fa-48d2-e88a-c996e887e68a"
      },
      "execution_count": null,
      "outputs": [
        {
          "output_type": "stream",
          "name": "stdout",
          "text": [
            "Informe sua altura por favor: 1.84\n",
            "Para a altura o peso ideal de um homem seria:  75.768\n",
            "Para a altura o peso ideal de uma mulher seria:  69.56400000000001\n"
          ]
        }
      ]
    },
    {
      "cell_type": "code",
      "source": [
        "#João Papo-de-Pescador, homem de bem, comprou um microcomputador para controlar o rendimento diário de seu trabalho.\n",
        "#Toda vez que ele traz um peso de peixes maior que o estabelecido pelo regulamento de pesca do estado de São Paulo (50 quilos) deve pagar uma multa de R$ 4,00 por quilo excedente.\n",
        "#João precisa que você faça um programa que leia a variável peso (peso de peixes) e calcule o excesso. Gravar na variável excesso a quantidade de quilos além do limite e na variável\n",
        "#multa o valor da multa que João deverá pagar. Imprima os dados do programa com as mensagens adequadas.\n",
        "\n",
        "peso = float(input('Informe quantos quilos de peixe foram pascados hoje: '))\n",
        "\n",
        "excesso = peso - 50\n",
        "\n",
        "multa =  excesso * 4.00\n",
        "\n",
        "print('Quilos totais pescados: ',peso)\n",
        "print('Excesso: ',excesso)\n",
        "print('Multa a ser paga: ',multa)\n"
      ],
      "metadata": {
        "colab": {
          "base_uri": "https://localhost:8080/"
        },
        "id": "Kj5f945dboAR",
        "outputId": "aef53d19-0625-42d5-f05a-63aef9fe35ae"
      },
      "execution_count": null,
      "outputs": [
        {
          "output_type": "stream",
          "name": "stdout",
          "text": [
            "Informe quantos quilos de peixe foram pascados hoje: 80\n",
            "Quilos totais pescados:  80.0\n",
            "Excesso:  30.0\n",
            "Multa a ser paga:  120.0\n"
          ]
        }
      ]
    },
    {
      "cell_type": "code",
      "source": [
        "#Faça um Programa que pergunte quanto você ganha por hora e o número de horas trabalhadas no mês. Calcule e mostre o total do seu salário no referido mês,\n",
        "#sabendo-se que são descontados 11% para o Imposto de Renda, 8% para o INSS e 5% para o sindicato, faça um programa que nos dê:\n",
        "#   salário bruto.\n",
        "#   quanto pagou ao INSS.\n",
        "#   quanto pagou ao sindicato.\n",
        "#   o salário líquido.\n",
        "#calcule os descontos e o salário líquido, conforme a tabela abaixo:\n",
        "#   + Salário Bruto : R$\n",
        "#   - IR (11%) : R$\n",
        "#   - INSS (8%) : R$\n",
        "#   - Sindicato ( 5%) : R$\n",
        "#   = Salário Liquido : R$\n",
        "#Obs.: Salário Bruto - Descontos = Salário Líquido.\n",
        "\n",
        "hour_wage = float(input('Informe o valor que recebe por hora de trabalho: '))\n",
        "hours = float(input('Informe quantas horas foram trabalhadas esse mês: '))\n",
        "\n",
        "full_wage = hours * hour_wage\n",
        "\n",
        "ir = (full_wage/100) * 11\n",
        "inss = (full_wage/100) * 8\n",
        "syndicate = (full_wage/100) * 5\n",
        "liquid_wage = full_wage - ir - inss - syndicate\n",
        "\n",
        "print(f'Salário Bruto :{full_wage} R$')\n",
        "print(f'IR (11%) :{ir} R$')\n",
        "print(f'INSS (8%) :{inss} R$')\n",
        "print(f'Sindicato ( 5%) :{syndicate} R$')\n",
        "print(f'Salário Liquido :{liquid_wage} R$')\n"
      ],
      "metadata": {
        "colab": {
          "base_uri": "https://localhost:8080/"
        },
        "id": "wEgCzu1afYsV",
        "outputId": "9eaf28fe-d34f-4127-cd46-d71e996170ab"
      },
      "execution_count": null,
      "outputs": [
        {
          "output_type": "stream",
          "name": "stdout",
          "text": [
            "Informe o valor que recebe por hora de trabalho: 100\n",
            "Informe quantas horas foram trabalhadas esse mês: 100\n",
            "Salário Bruto :10000.0 R$\n",
            "IR (11%) :1100.0 R$\n",
            "INSS (8%) :800.0 R$\n",
            "Sindicato ( 5%) :500.0 R$\n",
            "Salário Liquido :7600.0 R$\n"
          ]
        }
      ]
    },
    {
      "cell_type": "code",
      "source": [
        "#Faça um programa para uma loja de tintas. O programa deverá pedir o tamanho em metros quadrados da área a ser pintada. Considere que a cobertura da tinta é de 1 litro para cada 3 metros quadrados e que a\n",
        "#tinta é vendida em latas de 18 litros, que custam R$ 80,00. Informe ao usuário a quantidades de latas de tinta a serem compradas e o preço total.\n",
        "\n",
        "import math\n",
        "\n",
        "area = float(input('Informe o tamanho da área a ser pintada em m²: '))\n",
        "\n",
        "litros_tinta = area / 3\n",
        "latas = math.ceil(litros_tinta / 18)\n",
        "preco = latas * 80\n",
        "\n",
        "print(f'Serão necessárias {latas} latas, custando R$ {preco} no total')"
      ],
      "metadata": {
        "colab": {
          "base_uri": "https://localhost:8080/"
        },
        "id": "am-rh3kOh35G",
        "outputId": "05622107-d09c-44a6-d4bd-c164c3b4b5f5"
      },
      "execution_count": null,
      "outputs": [
        {
          "output_type": "stream",
          "name": "stdout",
          "text": [
            "Informe o tamanho da área a ser pintada em m²: 50\n",
            "Serão necessárias 1 latas, custando R$ 80 no total\n"
          ]
        }
      ]
    },
    {
      "cell_type": "code",
      "source": [
        "#Faça um Programa para uma loja de tintas. O programa deverá pedir o tamanho em metros quadrados da área a ser pintada. Considere que a cobertura da tinta é de 1 litro para cada 6 metros quadrados e que a tinta é\n",
        "#vendida em latas de 18 litros, que custam R$ 80,00 ou em galões de 3,6 litros, que custam R$ 25,00.\n",
        "#Informe ao usuário as quantidades de tinta a serem compradas e os respectivos preços em 3 situações:\n",
        "#   comprar apenas latas de 18 litros;\n",
        "#   comprar apenas galões de 3,6 litros;\n",
        "#misturar latas e galões, de forma que o desperdício de tinta seja menor. Acrescente 10% de folga e sempre arredonde os valores para cima, isto é, considere latas cheias.\n",
        "\n",
        "import math\n",
        "\n",
        "area = float(input('Informe o tamanho da área a ser pintada em m²: '))\n",
        "litros_tinta = area / 6\n",
        "\n",
        "latas = math.ceil(litros_tinta / 18)\n",
        "preco = latas * 80\n",
        "print(f'Serão necessárias {latas} latas, custando R$ {preco} no total')\n",
        "\n",
        "galoes = math.ceil(litros_tinta / 3.6)\n",
        "preco = galoes * 25\n",
        "print(f'Serão necessários {galoes} galões, custando R$ {preco} no total')\n",
        "\n",
        "litros_tinta *= 1.1\n",
        "latas = math.floor(litros_tinta / 18)\n",
        "tinta_faltante = litros_tinta - 18 * latas\n",
        "faltante_galoes = math.ceil(tinta_faltante / 3.6)\n",
        "\n",
        "if faltante_galoes <= 3:\n",
        "    galoes = faltante_galoes\n",
        "else:\n",
        "    galoes = 0\n",
        "    latas += 1\n",
        "\n",
        "preco = latas * 80 + galoes * 25\n",
        "print(f'São necessários {latas} latas e {galoes} galões. Custando R$ {preco} no total')"
      ],
      "metadata": {
        "colab": {
          "base_uri": "https://localhost:8080/"
        },
        "id": "w5e6ao_uiIjw",
        "outputId": "eed201ea-083d-4d82-a36e-98e01197e727"
      },
      "execution_count": null,
      "outputs": [
        {
          "output_type": "stream",
          "name": "stdout",
          "text": [
            "Informe o tamanho da área a ser pintada em m²: 70\n",
            "Serão necessárias 1 latas, custando R$ 80 no total\n",
            "Serão necessários 4 galões, custando R$ 100 no total\n",
            "São necessários 1 latas e 0 galões. Custando R$ 80 no total\n"
          ]
        }
      ]
    },
    {
      "cell_type": "code",
      "source": [
        "#Faça um programa que peça o tamanho de um arquivo para download (em MB) e a velocidade de um link de Internet (em Mbps), calcule e informe o tempo aproximado de download do arquivo usando este link (em minutos).\n",
        "\n",
        "tamanho = float(input('Informe o tamanho do arquivo em MB: '))\n",
        "velocidade = float(input('Informe a velocidade da conexão em Mbps: '))\n",
        "\n",
        "tamanho *= 8\n",
        "tempo = tamanho / velocidade\n",
        "tempo /= 60\n",
        "\n",
        "print(f'O tempo de download é de {tempo} minutos')"
      ],
      "metadata": {
        "colab": {
          "base_uri": "https://localhost:8080/"
        },
        "id": "KOglyGDiimTu",
        "outputId": "5b0f7e22-86b0-4d55-d41d-af6e3fbb3df1"
      },
      "execution_count": null,
      "outputs": [
        {
          "output_type": "stream",
          "name": "stdout",
          "text": [
            "Informe o tamanho do arquivo em MB: 100\n",
            "Informe a velocidade da conexão em Mbps: 1000\n",
            "O tempo de download é de 0.013333333333333334 minutos\n"
          ]
        }
      ]
    }
  ]
}